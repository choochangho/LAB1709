{
 "cells": [
  {
   "cell_type": "markdown",
   "metadata": {},
   "source": [
    "# 1. 외부 테이블 만들기"
   ]
  },
  {
   "cell_type": "markdown",
   "metadata": {},
   "source": [
    "```sql\n",
    "set hive.execution.engine=tez;\n",
    "DROP TABLE log4jLogs;\n",
    "CREATE EXTERNAL TABLE log4jLogs (t1 string, t2 string, t3 string, t4 string, t5 string, t6 string, t7 string)\n",
    "ROW FORMAT DELIMITED FIELDS TERMINATED BY ' '\n",
    "STORED AS TEXTFILE LOCATION '/example/data/';\n",
    "SELECT t4 AS sev, COUNT(*) AS count FROM log4jLogs WHERE t4 = '[ERROR]' AND INPUT__FILE__NAME LIKE '%.log' GROUP BY t4;\n",
    "```"
   ]
  },
  {
   "cell_type": "markdown",
   "metadata": {},
   "source": [
    "# 2. 내부 테이블 만들기"
   ]
  },
  {
   "cell_type": "markdown",
   "metadata": {},
   "source": [
    "```sql\n",
    "CREATE TABLE IF NOT EXISTS errorLogs (t1 string, t2 string, t3 string, t4 string, t5 string, t6 string, t7 string)\n",
    "STORED AS ORC;\n",
    "INSERT OVERWRITE TABLE errorLogs\n",
    "SELECT t1, t2, t3, t4, t5, t6, t7 FROM log4jLogs WHERE t4 = '[ERROR]';\n",
    "```"
   ]
  },
  {
   "cell_type": "markdown",
   "metadata": {},
   "source": [
    "# 3. Call Rest API "
   ]
  },
  {
   "cell_type": "markdown",
   "metadata": {},
   "source": [
    "```bash\n",
    "$ curl –u USERNAME:PASSWORD –G https://<CLUSTERNAME>.azurehdinsight.net/templeton/v1/status\n",
    "{“status”: “ok”, “version”: “v1”}\n",
    "\n",
    "$ curl -u USERNAME:PASSWORD -d user.name=USERNAME -d execute=\"CREATE+EXTERNAL+TABLE+log4jLogs(t1+string,t2+string,t3+string,t4+string,t5+string,t6+string,t7+string)+ROW+FORMAT+DELIMITED+FIELDS+TERMINATED+BY+' '+STORED+AS+TEXTFILE+LOCATION+'/example/data/';SELECT+t4+AS+sev,COUNT(*)+AS+count+FROM+log4jLogs+WHERE+t4+=+'[ERROR]'+AND+INPUT__FILE__NAME+LIKE+'%25.log'+GROUP+BY+t4;\" -d statusdir=\"/example/curl\" https://CLUSTERNAME.azurehdinsight.net/templeton/v1/hive\n",
    "\n",
    "$ curl -G -u USERNAME:PASSWORD -d user.name=USERNAME https://CLUSTERNAME.azurehdinsight.net/templeton/v1/jobs/JOBID | jq .status.state\n",
    "\n",
    "% Total    % Received % Xferd  Average Speed   Time    Time     Time  Current\n",
    "                                 Dload  Upload   Total   Spent    Left  Speed\n",
    "100  1877  100  1877    0     0   2898      0 --:--:-- --:--:-- --:--:--  2896\n",
    "\"RUNNING“\n",
    "```"
   ]
  },
  {
   "cell_type": "markdown",
   "metadata": {},
   "source": [
    "# 4. Hadoop 에 Excel 연결하기"
   ]
  },
  {
   "cell_type": "markdown",
   "metadata": {},
   "source": [
    "## 4.1 Microsoft Hive ODBC 다운로드\n",
    "\n",
    "https://www.microsoft.com/en-us/download/details.aspx?id=39379"
   ]
  },
  {
   "cell_type": "markdown",
   "metadata": {},
   "source": [
    "## 4.2 Hive ODBC 설정"
   ]
  },
  {
   "cell_type": "markdown",
   "metadata": {},
   "source": [
    "![](images/09.png)\n",
    "![](images/10.png)\n",
    "![](images/11.png)\n",
    "![](images/12.png)\n",
    "![](images/13.png)\n",
    "![](images/14.png)"
   ]
  },
  {
   "cell_type": "markdown",
   "metadata": {},
   "source": [
    "# 4.3 Execl 연결"
   ]
  },
  {
   "cell_type": "markdown",
   "metadata": {},
   "source": [
    "![](images/15.png)\n",
    "![](images/16.png)\n",
    "![](images/17.png)\n",
    "![](images/18.png)\n",
    "![](images/19.png)\n",
    "![](images/20.png)\n",
    "![](images/21.png)\n",
    "![](images/22.png)"
   ]
  },
  {
   "cell_type": "markdown",
   "metadata": {},
   "source": [
    "## 4.4 쿼리 수정"
   ]
  },
  {
   "cell_type": "markdown",
   "metadata": {},
   "source": [
    "![](images/23.png)\n",
    "![](images/24.png)\n",
    "![](images/25.png)"
   ]
  },
  {
   "cell_type": "markdown",
   "metadata": {},
   "source": [
    "# 5. 파워쿼리\n",
    "## 5.1 Microsoft Office 파워 쿼리 다운로드\n",
    "\n",
    "https://www.microsoft.com/ko-kr/download/confirmation.aspx?id=39379"
   ]
  },
  {
   "cell_type": "markdown",
   "metadata": {},
   "source": [
    "## 5.2 Auzre HDInsight 와 Excel 연결"
   ]
  },
  {
   "cell_type": "markdown",
   "metadata": {},
   "source": [
    "![](images/26.png)\n",
    "![](images/27.png)\n",
    "![](images/28.png)\n",
    "![](images/29.png)"
   ]
  },
  {
   "cell_type": "code",
   "execution_count": null,
   "metadata": {
    "collapsed": true
   },
   "outputs": [],
   "source": []
  }
 ],
 "metadata": {
  "kernelspec": {
   "display_name": "Python 3",
   "language": "python",
   "name": "python3"
  },
  "language_info": {
   "codemirror_mode": {
    "name": "ipython",
    "version": 3
   },
   "file_extension": ".py",
   "mimetype": "text/x-python",
   "name": "python",
   "nbconvert_exporter": "python",
   "pygments_lexer": "ipython3",
   "version": "3.6.0"
  }
 },
 "nbformat": 4,
 "nbformat_minor": 2
}
