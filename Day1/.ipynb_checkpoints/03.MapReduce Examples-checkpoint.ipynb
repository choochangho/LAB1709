{
 "cells": [
  {
   "cell_type": "markdown",
   "metadata": {},
   "source": [
    "# 1. Word Count\n",
    "## 1.1 실행"
   ]
  },
  {
   "cell_type": "markdown",
   "metadata": {},
   "source": [
    "```bash\n",
    "sshuser@hn0-lab170:~$ yarn jar /usr/hdp/current/hadoop-mapreduce-client/hadoop-mapreduce-example.jar \\\n",
    "wordcount \\\n",
    "/example/data/gutenberg/davinci.txt \\\n",
    "/example/data/davinciwordcount\n",
    "\n",
    "17/07/17 06:30:28 INFO impl.TimelineClientImpl: Timeline service address: http://headnodehost:8188/ws/v1/timeline/\n",
    "17/07/17 06:30:28 INFO client.AHSProxy: Connecting to Application History server at headnodehost/10.0.0.19:10200\n",
    "17/07/17 06:30:30 INFO client.ConfiguredRMFailoverProxyProvider: Failing over to rm2\n",
    "17/07/17 06:30:33 INFO input.FileInputFormat: Total input paths to process : 1\n",
    "17/07/17 06:30:33 INFO mapreduce.JobSubmitter: number of splits:1\n",
    "17/07/17 06:30:34 INFO mapreduce.JobSubmitter: Submitting tokens for job: job_1500271733344_0005\n",
    "17/07/17 06:30:36 INFO impl.YarnClientImpl: Submitted application application_1500271733344_0005\n",
    "17/07/17 06:30:36 INFO mapreduce.Job: The url to track the job: http://hn1-lab170.alzbd0oypqvufcpxq53hkyewcf.mx.internal.cloudapp.net:8088/proxy/application_1500271733344_0005/\n",
    "17/07/17 06:30:36 INFO mapreduce.Job: Running job: job_1500271733344_0005\n",
    "17/07/17 06:30:43 INFO mapreduce.Job: Job job_1500271733344_0005 running in uber mode : false\n",
    "17/07/17 06:30:43 INFO mapreduce.Job:  map 0% reduce 0%\n",
    "17/07/17 06:30:49 INFO mapreduce.Job:  map 100% reduce 0%\n",
    "17/07/17 06:30:55 INFO mapreduce.Job:  map 100% reduce 100%\n",
    "17/07/17 06:30:57 INFO mapreduce.Job: Job job_1500271733344_0005 completed successfully\n",
    "17/07/17 06:30:57 INFO mapreduce.Job: Counters: 49\n",
    "        File System Counters\n",
    "                FILE: Number of bytes read=466761\n",
    "                FILE: Number of bytes written=1241743\n",
    "                FILE: Number of read operations=0\n",
    "                FILE: Number of large read operations=0\n",
    "                FILE: Number of write operations=0\n",
    "                WASB: Number of bytes read=1395813\n",
    "                WASB: Number of bytes written=337623\n",
    "                WASB: Number of read operations=0\n",
    "                WASB: Number of large read operations=0\n",
    "                WASB: Number of write operations=0\n",
    "        Job Counters\n",
    "                Launched map tasks=1\n",
    "                Launched reduce tasks=1\n",
    "                Rack-local map tasks=1\n",
    "                Total time spent by all maps in occupied slots (ms)=12321\n",
    "                Total time spent by all reduces in occupied slots (ms)=10482\n",
    "                Total time spent by all map tasks (ms)=4107\n",
    "                Total time spent by all reduce tasks (ms)=3494\n",
    "                Total vcore-milliseconds taken by all map tasks=4107\n",
    "                Total vcore-milliseconds taken by all reduce tasks=3494\n",
    "                Total megabyte-milliseconds taken by all map tasks=6308352\n",
    "                Total megabyte-milliseconds taken by all reduce tasks=5366784\n",
    "        Map-Reduce Framework\n",
    "                Map input records=32118\n",
    "                Map output records=251357\n",
    "                Map output bytes=2387798\n",
    "                Map output materialized bytes=466761\n",
    "                Input split bytes=146\n",
    "                Combine input records=251357\n",
    "                Combine output records=32956\n",
    "                Reduce input groups=32956\n",
    "                Reduce shuffle bytes=466761\n",
    "                Reduce input records=32956\n",
    "                Reduce output records=32956\n",
    "                Spilled Records=65912\n",
    "                Shuffled Maps =1\n",
    "                Failed Shuffles=0\n",
    "                Merged Map outputs=1\n",
    "                GC time elapsed (ms)=122\n",
    "                CPU time spent (ms)=6780\n",
    "                Physical memory (bytes) snapshot=1090576384\n",
    "                Virtual memory (bytes) snapshot=5687025664\n",
    "                Total committed heap usage (bytes)=2118123520\n",
    "        Shuffle Errors\n",
    "                BAD_ID=0\n",
    "                CONNECTION=0\n",
    "                IO_ERROR=0\n",
    "                WRONG_LENGTH=0\n",
    "                WRONG_MAP=0\n",
    "                WRONG_REDUCE=0\n",
    "        File Input Format Counters\n",
    "                Bytes Read=1395667\n",
    "        File Output Format Counters\n",
    "                Bytes Written=337623\n",
    "\n",
    "```"
   ]
  },
  {
   "cell_type": "markdown",
   "metadata": {},
   "source": [
    "# 1.2 결과 확인"
   ]
  },
  {
   "cell_type": "markdown",
   "metadata": {},
   "source": [
    "```bash\n",
    "hdfs dfs -cat /example/data/davinciwordcount/*\n",
    "```"
   ]
  },
  {
   "cell_type": "markdown",
   "metadata": {},
   "source": [
    "# 2 Sudoku\n",
    "# 2.1 실행"
   ]
  },
  {
   "cell_type": "markdown",
   "metadata": {},
   "source": [
    "```bash\n",
    "yarn jar /usr/hdp/current/hadoop-mapreduce-client/hadoop-mapreduce-examples.jar sudoku /usr/hdp/current/hadoop-client/src/hadoop-mapreduce-project/hadoop-mapreduce-examples/src/main/java/org/apache/hadoop/examples/dancing\n",
    "/puzzle1.dta\n",
    "\n",
    "Solving /usr/hdp/current/hadoop-client/src/hadoop-mapreduce-project/hadoop-mapreduce-examples/src/main/java/org/apache/hadoop/examples/dancing/puzzle1.dta\n",
    "8 5 1 3 9 2 6 4 7\n",
    "4 3 2 6 7 8 1 9 5\n",
    "7 9 6 5 1 4 3 8 2\n",
    "6 1 4 8 2 3 7 5 9\n",
    "5 7 8 9 6 1 4 2 3\n",
    "3 2 9 4 5 7 8 1 6\n",
    "9 4 7 2 8 6 5 3 1\n",
    "1 8 5 7 3 9 2 6 4\n",
    "2 6 3 1 4 5 9 7 8\n",
    "\n",
    "Found 1 solutions\n",
    "```"
   ]
  },
  {
   "cell_type": "code",
   "execution_count": null,
   "metadata": {
    "collapsed": true
   },
   "outputs": [],
   "source": []
  }
 ],
 "metadata": {
  "kernelspec": {
   "display_name": "Python 3",
   "language": "python",
   "name": "python3"
  },
  "language_info": {
   "codemirror_mode": {
    "name": "ipython",
    "version": 3
   },
   "file_extension": ".py",
   "mimetype": "text/x-python",
   "name": "python",
   "nbconvert_exporter": "python",
   "pygments_lexer": "ipython3",
   "version": "3.6.0"
  }
 },
 "nbformat": 4,
 "nbformat_minor": 2
}
