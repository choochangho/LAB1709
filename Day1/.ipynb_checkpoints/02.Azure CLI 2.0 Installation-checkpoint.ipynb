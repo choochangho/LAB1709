{
 "cells": [
  {
   "cell_type": "markdown",
   "metadata": {},
   "source": [
    "# Azure CLI 2.0"
   ]
  },
  {
   "cell_type": "markdown",
   "metadata": {},
   "source": [
    "- 플랫폼 간 오픈 소스 Azure CLI 2.0은 Azure 플랫폼을 사용하기 위한 명령 집합을 제공. \n",
    "- 풍부한 데이터 액세스를 포함하여 Azure Portal과 동일한 기능을 제공"
   ]
  },
  {
   "cell_type": "markdown",
   "metadata": {},
   "source": [
    "# Azure CLI 2.0 and Azure CLI 1.0"
   ]
  },
  {
   "cell_type": "markdown",
   "metadata": {},
   "source": [
    "- Azure CLI 2.0: Resource Manager 배포 모델과 함께 사용할 수 있도록 Python으로 작성된 차세대 CLI.\n",
    "- Azure CLI 1.0: 클래식 배포 모델 및 Resource Manager 배포 모델과 함께 사용할 수 있도록 Node.js로 작성된 CLI."
   ]
  },
  {
   "cell_type": "markdown",
   "metadata": {},
   "source": [
    "# 설치"
   ]
  },
  {
   "cell_type": "markdown",
   "metadata": {},
   "source": [
    "https://docs.microsoft.com/ko-kr/cli/azure/install-azure-cli 참고"
   ]
  },
  {
   "cell_type": "markdown",
   "metadata": {},
   "source": [
    "1. Bash 설치\n",
    "2. Bash 셸 오픈"
   ]
  },
  {
   "cell_type": "markdown",
   "metadata": {},
   "source": [
    "![셸 열기](images/07.png)"
   ]
  },
  {
   "cell_type": "markdown",
   "metadata": {},
   "source": [
    "```bash\n",
    "echo \"deb [arch=amd64] https://packages.microsoft.com/repos/azure-cli/ wheezy main\" |  sudo tee /etc/apt/sources.list.d/azure-cli.list\n",
    "```"
   ]
  },
  {
   "cell_type": "markdown",
   "metadata": {},
   "source": [
    "```bash\n",
    "sudo apt-key adv --keyserver packages.microsoft.com --recv-keys 417A0893\n",
    "sudo apt-get install apt-transport-https\n",
    "sudo apt-get update && sudo apt-get install azure-cli\n",
    "```"
   ]
  },
  {
   "cell_type": "markdown",
   "metadata": {
    "collapsed": true
   },
   "source": [
    "![az](images/08.png)"
   ]
  },
  {
   "cell_type": "code",
   "execution_count": null,
   "metadata": {
    "collapsed": true
   },
   "outputs": [],
   "source": []
  }
 ],
 "metadata": {
  "kernelspec": {
   "display_name": "Python 3",
   "language": "python",
   "name": "python3"
  },
  "language_info": {
   "codemirror_mode": {
    "name": "ipython",
    "version": 3
   },
   "file_extension": ".py",
   "mimetype": "text/x-python",
   "name": "python",
   "nbconvert_exporter": "python",
   "pygments_lexer": "ipython3",
   "version": "3.6.0"
  }
 },
 "nbformat": 4,
 "nbformat_minor": 2
}
